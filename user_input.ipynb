{
 "cells": [
  {
   "cell_type": "markdown",
   "metadata": {},
   "source": [
    "## Import\n"
   ]
  },
  {
   "cell_type": "code",
   "execution_count": 30,
   "metadata": {},
   "outputs": [],
   "source": [
    "from sentence_transformers import SentenceTransformer\n",
    "import chromadb\n",
    "from chromadb.utils import embedding_functions\n",
    "from chromadb.config import Settings"
   ]
  },
  {
   "cell_type": "code",
   "execution_count": 32,
   "metadata": {},
   "outputs": [],
   "source": [
    "model_name = 'all-mpnet-base-v2'\n",
    "embedding_fn = embedding_functions.SentenceTransformerEmbeddingFunction(model_name=model_name)\n",
    "\n",
    "chroma_client = chroma_client = chromadb.PersistentClient(path='data/chroma_db')\n",
    "collection = chroma_client.get_collection(name=\"cbt_prompts_collection\", embedding_function=embedding_fn)\n"
   ]
  },
  {
   "cell_type": "code",
   "execution_count": 33,
   "metadata": {},
   "outputs": [
    {
     "data": {
      "text/plain": [
       "15"
      ]
     },
     "execution_count": 33,
     "metadata": {},
     "output_type": "execute_result"
    }
   ],
   "source": [
    "collection.count()\n"
   ]
  },
  {
   "cell_type": "code",
   "execution_count": 35,
   "metadata": {},
   "outputs": [
    {
     "name": "stdout",
     "output_type": "stream",
     "text": [
      "Best matched CBT prompt: What thoughts are making you feel anxious or overwhelmed? How can you challenge them?\n"
     ]
    }
   ],
   "source": [
    "user_input = input(\"|| \")\n",
    "\n",
    "result = collection.query(\n",
    "    query_texts=[user_input],\n",
    "    n_results=2\n",
    ")\n",
    "\n",
    "# Check if any documents are returned\n",
    "if result['documents'] and result['documents'][0]:\n",
    "    best_prompt = result['documents'][0][0]\n",
    "    print(\"Best matched CBT prompt:\", best_prompt)\n",
    "else:\n",
    "    print(\"No matching CBT prompt found.\")\n"
   ]
  },
  {
   "cell_type": "markdown",
   "metadata": {},
   "source": [
    "## "
   ]
  }
 ],
 "metadata": {
  "kernelspec": {
   "display_name": "base",
   "language": "python",
   "name": "python3"
  },
  "language_info": {
   "codemirror_mode": {
    "name": "ipython",
    "version": 3
   },
   "file_extension": ".py",
   "mimetype": "text/x-python",
   "name": "python",
   "nbconvert_exporter": "python",
   "pygments_lexer": "ipython3",
   "version": "3.11.7"
  }
 },
 "nbformat": 4,
 "nbformat_minor": 2
}
