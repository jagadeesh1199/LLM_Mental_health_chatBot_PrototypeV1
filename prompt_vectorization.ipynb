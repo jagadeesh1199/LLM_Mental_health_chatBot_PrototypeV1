{
 "cells": [
  {
   "cell_type": "markdown",
   "id": "4c0b3336",
   "metadata": {},
   "source": [
    "## Import Statement"
   ]
  },
  {
   "cell_type": "code",
   "execution_count": 2,
   "id": "fd2e9eb8-dac6-428c-9a32-bc88f47c9d32",
   "metadata": {},
   "outputs": [
    {
     "name": "stderr",
     "output_type": "stream",
     "text": [
      "c:\\MY_Files\\Anaconda\\Lib\\site-packages\\sentence_transformers\\cross_encoder\\CrossEncoder.py:13: TqdmExperimentalWarning: Using `tqdm.autonotebook.tqdm` in notebook mode. Use `tqdm.tqdm` instead to force console mode (e.g. in jupyter console)\n",
      "  from tqdm.autonotebook import tqdm, trange\n"
     ]
    }
   ],
   "source": [
    "import json\n",
    "import chromadb\n",
    "from chromadb.config import Settings\n",
    "from sentence_transformers import SentenceTransformer\n",
    "from chromadb.utils import embedding_functions\n",
    "import pandas as pd\n",
    "import numpy as np"
   ]
  },
  {
   "cell_type": "markdown",
   "id": "63d5b02f",
   "metadata": {},
   "source": [
    "## Load Data"
   ]
  },
  {
   "cell_type": "code",
   "execution_count": 3,
   "id": "bbbd6502",
   "metadata": {},
   "outputs": [],
   "source": [
    "# Load prompts from JSON file\n",
    "with open(\"data/sample_CBT_prompts.json\", \"r\") as f:\n",
    "    data = json.load(f)\n",
    "    cbt_prompts = data['cbt_prompts']"
   ]
  },
  {
   "cell_type": "markdown",
   "id": "f1c61d46",
   "metadata": {},
   "source": [
    "## Chroma db and embedding"
   ]
  },
  {
   "cell_type": "code",
   "execution_count": null,
   "id": "71a8b955",
   "metadata": {},
   "outputs": [
    {
     "name": "stdout",
     "output_type": "stream",
     "text": [
      "Added 15 CBT prompts to ChromaDB.\n"
     ]
    }
   ],
   "source": [
    "# Initialize the embedding function with the new transformer model\n",
    "embedding_fn = embedding_functions.SentenceTransformerEmbeddingFunction(model_name=\"all-mpnet-base-v2\")\n",
    "\n",
    "# Create or get collection with persistence\n",
    "chroma_client = chromadb.PersistentClient(path='data/chroma_db')\n",
    "collection = chroma_client.create_collection(name=\"cbt_prompts_collection\", embedding_function=embedding_fn)\n",
    "\n",
    "# Load your CBT prompts from the JSON file\n",
    "with open(\"data/sample_CBT_prompts.json\", \"r\") as f:\n",
    "    cbt_prompts = json.load(f)[\"cbt_prompts\"]\n",
    "\n",
    "# Add documents to the collection\n",
    "collection.add(\n",
    "    documents=cbt_prompts,\n",
    "    ids=[f\"prompt_{i}\" for i in range(len(cbt_prompts))]\n",
    ")\n",
    "\n",
    "print(f\"Added {len(cbt_prompts)} CBT prompts to ChromaDB.\")"
   ]
  },
  {
   "cell_type": "code",
   "execution_count": 5,
   "id": "d811c94f",
   "metadata": {},
   "outputs": [
    {
     "name": "stdout",
     "output_type": "stream",
     "text": [
      "{'ids': [['prompt_11', 'prompt_9']], 'embeddings': None, 'documents': [['What thoughts are making you feel anxious or overwhelmed? How can you challenge them?', 'When you feel stressed, what are three things you can do to calm yourself?']], 'uris': None, 'included': ['metadatas', 'documents', 'distances'], 'data': None, 'metadatas': [[None, None]], 'distances': [[0.9956564903259277, 1.232859492301941]]}\n"
     ]
    }
   ],
   "source": [
    "# Get first 5 documents in the collection\n",
    "results = collection.query(query_texts=[\"anxiety\"], n_results=2)\n",
    "print(results)"
   ]
  }
 ],
 "metadata": {
  "kernelspec": {
   "display_name": "base",
   "language": "python",
   "name": "python3"
  },
  "language_info": {
   "codemirror_mode": {
    "name": "ipython",
    "version": 3
   },
   "file_extension": ".py",
   "mimetype": "text/x-python",
   "name": "python",
   "nbconvert_exporter": "python",
   "pygments_lexer": "ipython3",
   "version": "3.11.7"
  }
 },
 "nbformat": 4,
 "nbformat_minor": 5
}
